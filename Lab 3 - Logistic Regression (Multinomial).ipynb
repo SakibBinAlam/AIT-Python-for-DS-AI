{
 "cells": [
  {
   "cell_type": "markdown",
   "id": "2591b264",
   "metadata": {},
   "source": [
    "### === Task ==="
   ]
  },
  {
   "cell_type": "markdown",
   "id": "6c467c9b",
   "metadata": {},
   "source": [
    "1. With the iris data given in class, implement train_test_split from scratch.\n",
    "\n",
    "2. Put everything into a class called LogisticRegression, this class should allow you choose any of the training methods you'd like including \"batch\", \"minibatch\" and \"sto\". However, if the input method is not one of the three, it should \"raise ValueError\".\n",
    "\n",
    "3. Calculate time taken to fit your models using different training methods.\n",
    "\n",
    "4. Perform a classification on the dataset using all 3 methods and also show what happens if your defined training method is not either \"batch\", \"minibatch\" or \"sto\". Make sure to plot the training losses.\n",
    "\n",
    "5. Simply, use classification_report from sklearn.metrics to evaluate your models.\n",
    "\n",
    "6. Discuss your results ie. training losses of the three methods and time taken to fit models."
   ]
  },
  {
   "cell_type": "code",
   "execution_count": 1,
   "id": "58245edd",
   "metadata": {},
   "outputs": [],
   "source": [
    "# prepare data\n",
    "\n",
    "import numpy as np\n",
    "import matplotlib.pyplot as plt\n",
    "from sklearn import datasets\n",
    "from sklearn.preprocessing import StandardScaler\n",
    "import numpy as np\n",
    "import matplotlib.pyplot as plt\n",
    "from sklearn.metrics import classification_report\n",
    "import time\n",
    "\n",
    "\n",
    "iris = datasets.load_iris()\n",
    "X = iris.data[:, 2:]  # only take the first two features.\n",
    "y = iris.target  "
   ]
  },
  {
   "cell_type": "code",
   "execution_count": 2,
   "id": "864aad92",
   "metadata": {},
   "outputs": [],
   "source": [
    "# scaling\n",
    "scaler = StandardScaler()\n",
    "X = scaler.fit_transform(X)"
   ]
  },
  {
   "cell_type": "code",
   "execution_count": 6,
   "id": "68558dc8",
   "metadata": {},
   "outputs": [],
   "source": [
    "# split dataset - implement train_test_split from scratch\n",
    "idx = np.arange(0,len(X),1)\n",
    "#print(idx)\n",
    "np.random.shuffle(idx)\n",
    "idx_train = idx[0:int(.7*len(X))]\n",
    "idx_test = idx[len(idx_train):len(idx)]\n",
    "\n",
    "X_train = X[idx_train]\n",
    "X_test = X[idx_test]\n",
    "y_train = y[idx_train]\n",
    "y_test = y[idx_test]"
   ]
  },
  {
   "cell_type": "code",
   "execution_count": 7,
   "id": "adb5bf2b",
   "metadata": {},
   "outputs": [],
   "source": [
    "# add intercept to our X\n",
    "intercept = np.ones((X_train.shape[0], 1))\n",
    "X_train   = np.concatenate((intercept, X_train), axis=1)  \n",
    "intercept = np.ones((X_test.shape[0], 1))\n",
    "X_test    = np.concatenate((intercept, X_test), axis=1)\n",
    "# make sure our y is in the shape of (m, k)\n",
    "# we will convert our output vector in \n",
    "# matrix where no. of columns is equal to the no. of classes. \n",
    "# The values in the matrix will be 0 or 1. For instance the rows \n",
    "# where we have output 2 the column 2 will contain 1 and the rest are all 0.\n",
    "# in simple words, y will be of shape (m, k)\n",
    "k = len(set(y))  # no. of class  (can also use np.unique)\n",
    "m = X_train.shape[0]  # no.of samples\n",
    "n = X_train.shape[1]  # no. of features\n",
    "Y_train_encoded = np.zeros((m, k))\n",
    "for each_class in range(k):\n",
    "    cond = y_train==each_class\n",
    "    Y_train_encoded[np.where(cond), each_class] = 1"
   ]
  },
  {
   "cell_type": "code",
   "execution_count": 11,
   "id": "87fd7717",
   "metadata": {},
   "outputs": [
    {
     "data": {
      "image/png": "[encoded data removed]",
      "text/plain": [
       "<Figure size 432x432 with 1 Axes>"
      ]
     },
     "metadata": {
      "needs_background": "light"
     },
     "output_type": "display_data"
    }
   ],
   "source": [
    "# Step 1.1 (optional): Visualize our data\n",
    "\n",
    "# your code here\n",
    "plt.figure(figsize=(6,6))\n",
    "plt.scatter(X[:, 0], X[:, 1], label='class 0', c=y)\n",
    "plt.show()"
   ]
  },
  {
   "cell_type": "code",
   "execution_count": 26,
   "id": "b45d5bee",
   "metadata": {},
   "outputs": [],
   "source": [
    "# Fit the data\n",
    "\n",
    "class LogisticRegression:\n",
    "    \n",
    "    def __init__(self, k, n, method, alpha = 0.001, max_iter=10000):\n",
    "        self.k = k\n",
    "        self.n = n\n",
    "        self.alpha = alpha\n",
    "        self.max_iter = max_iter\n",
    "        self.method = method\n",
    "    \n",
    "    def fit(self, X, Y):\n",
    "        #w = np.random.rand(n, k)\n",
    "        self.w = np.random.rand(self.n, self.k)\n",
    "        self.losses = []\n",
    "        \n",
    "        if self.method == \"batch\":\n",
    "            start_time = time.time()\n",
    "            for i in range(self.max_iter):\n",
    "                loss, grad =  self.gradient(X, Y)\n",
    "                self.losses.append(loss)\n",
    "                self.w = self.w - self.alpha * grad\n",
    "                if i % 500 == 0:\n",
    "                    print(\"Loss at iteration\", i, \":\", loss)\n",
    "            print()\n",
    "            print(\"Time taken:\", time.time() - start_time)\n",
    "            \n",
    "        elif self.method == \"minibatch\":\n",
    "            start_time = time.time()\n",
    "            batch_size = int(0.3 * X.shape[0])\n",
    "            for i in range(self.max_iter):\n",
    "                ix = np.random.randint(0, X.shape[0])\n",
    "                batch_X = X[ix:ix+batch_size]\n",
    "                batch_Y = Y[ix:ix+batch_size]\n",
    "                loss, grad = self.gradient(batch_X, batch_Y)\n",
    "                self.losses.append(loss)\n",
    "                self.w = self.w - self.alpha * grad\n",
    "                if i % 500 == 0:\n",
    "                    print(\"Loss at iteration\",i,\":\", loss)\n",
    "            print()\n",
    "            print(\"Time taken:\", time.time() - start_time)\n",
    "            \n",
    "        elif self.method == \"sto\":\n",
    "            start_time = time.time()\n",
    "            list_of_used_ix = []\n",
    "            for i in range(self.max_iter):\n",
    "                idx = np.random.randint(X.shape[0])\n",
    "                while i in list_of_used_ix:\n",
    "                    idx = np.random.randint(X.shape[0])\n",
    "                X_train = X[idx, :].reshape(1, -1)\n",
    "                Y_train = Y[idx]\n",
    "                loss, grad = self.gradient(X_train, Y_train)\n",
    "                self.losses.append(loss)\n",
    "                self.w = self.w - self.alpha * grad\n",
    "                \n",
    "                list_of_used_ix.append(i)\n",
    "                if len(list_of_used_ix) == X.shape[0]:\n",
    "                    list_of_used_ix = []\n",
    "                if i % 500 == 0:\n",
    "                    print(\"Loss at iteration:\",i,\":\", loss)\n",
    "            print()\n",
    "            print(\"Time taken:\", time.time() - start_time)\n",
    "            \n",
    "        else:\n",
    "            raise ValueError('Methos should be \"batch\", \"minibatch\" or \"sto\"')\n",
    "        \n",
    "        \n",
    "    def gradient(self, X, Y):\n",
    "        m = X.shape[0]\n",
    "        h = self.h_theta(X, self.w)\n",
    "        loss = - np.sum(Y*np.log(h)) / m\n",
    "        error = h - Y\n",
    "        grad = self.softmax_grad(X, error)\n",
    "        return loss, grad\n",
    "\n",
    "    def softmax(self, theta_t_x):\n",
    "        return np.exp(theta_t_x) / np.sum(np.exp(theta_t_x), axis=1, keepdims=True)\n",
    "\n",
    "    def softmax_grad(self, X, error):\n",
    "        return  X.T @ error\n",
    "\n",
    "    def h_theta(self, X, w):\n",
    "        '''\n",
    "        Input:\n",
    "            X shape: (m, n)\n",
    "            w shape: (n, k)\n",
    "        Returns:\n",
    "            yhat shape: (m, k)\n",
    "        '''\n",
    "        return self.softmax(X @ w)\n",
    "    \n",
    "    def predict(self, X_test):\n",
    "        return np.argmax(self.h_theta(X_test, self.w), axis=1)\n",
    "    \n",
    "    def plot(self):\n",
    "        plt.plot(np.arange(len(self.losses)) , self.losses, label = \"Train Losses\")\n",
    "        plt.title(\"Losses\")\n",
    "        plt.xlabel(\"epoch\")\n",
    "        plt.ylabel(\"losses\")\n",
    "        plt.legend()"
   ]
  },
  {
   "cell_type": "markdown",
   "id": "4d937ef2",
   "metadata": {},
   "source": [
    "### Evaluationg Batch Method"
   ]
  },
  {
   "cell_type": "code",
   "execution_count": 28,
   "id": "b46263f9",
   "metadata": {},
   "outputs": [
    {
     "name": "stdout",
     "output_type": "stream",
     "text": [
      "Loss at iteration 0 : 1.370022546334368\n",
      "Loss at iteration 500 : 0.18136570291135942\n",
      "Loss at iteration 1000 : 0.13544142193305586\n",
      "Loss at iteration 1500 : 0.11641938777185606\n",
      "Loss at iteration 2000 : 0.10556912864682894\n",
      "Loss at iteration 2500 : 0.09837233376201467\n",
      "Loss at iteration 3000 : 0.09316349747019258\n",
      "Loss at iteration 3500 : 0.08917504193262113\n",
      "Loss at iteration 4000 : 0.08599943240098858\n",
      "Loss at iteration 4500 : 0.08339785930716537\n",
      "Loss at iteration 5000 : 0.08121980679489495\n",
      "Loss at iteration 5500 : 0.07936495327964052\n",
      "Loss at iteration 6000 : 0.07776341902721387\n",
      "Loss at iteration 6500 : 0.07636477072995422\n",
      "Loss at iteration 7000 : 0.07513153724831162\n",
      "Loss at iteration 7500 : 0.07403519841334469\n",
      "Loss at iteration 8000 : 0.07305360174165637\n",
      "Loss at iteration 8500 : 0.0721692406867109\n",
      "Loss at iteration 9000 : 0.07136807273653407\n",
      "Loss at iteration 9500 : 0.07063868707824561\n",
      "\n",
      "Time taken: 0.3413655757904053\n",
      "\n",
      "Classification report: \n",
      "              precision    recall  f1-score   support\n",
      "\n",
      "           0       1.00      1.00      1.00        18\n",
      "           1       0.88      1.00      0.94        15\n",
      "           2       1.00      0.83      0.91        12\n",
      "\n",
      "    accuracy                           0.96        45\n",
      "   macro avg       0.96      0.94      0.95        45\n",
      "weighted avg       0.96      0.96      0.95        45\n",
      "\n"
     ]
    },
    {
     "data": {
      "image/png": "[encoded data removed]",
      "text/plain": [
       "<Figure size 432x288 with 1 Axes>"
      ]
     },
     "metadata": {
      "needs_background": "light"
     },
     "output_type": "display_data"
    }
   ],
   "source": [
    "model = LogisticRegression(k, X_train.shape[1], \"batch\")\n",
    "model.fit(X_train, Y_train_encoded)\n",
    "yhat = model.predict(X_test)\n",
    "model.plot()\n",
    "print()\n",
    "print(\"Classification report: \")\n",
    "print(classification_report(y_test, yhat))"
   ]
  },
  {
   "cell_type": "markdown",
   "id": "ab13a07e",
   "metadata": {},
   "source": [
    "### Evaluating MIniBatch method"
   ]
  },
  {
   "cell_type": "code",
   "execution_count": 23,
   "id": "ce4dde43",
   "metadata": {},
   "outputs": [
    {
     "name": "stdout",
     "output_type": "stream",
     "text": [
      "Loss at iteration 0 : 1.506575720641396\n",
      "Loss at iteration 500 : 0.2964042422378085\n",
      "Loss at iteration 1000 : 0.27939060051302894\n",
      "Loss at iteration 1500 : 0.23867945415887093\n",
      "Loss at iteration 2000 : 0.14042805676680323\n",
      "Loss at iteration 2500 : 0.16602983150167552\n",
      "Loss at iteration 3000 : 0.16945647568838035\n",
      "Loss at iteration 3500 : 0.20557339249576023\n",
      "Loss at iteration 4000 : 0.06260166562647705\n",
      "Loss at iteration 4500 : 0.12235275369822433\n",
      "Loss at iteration 5000 : 0.1332085541542296\n",
      "Loss at iteration 5500 : 0.01656645552578916\n",
      "Loss at iteration 6000 : 0.015344798041391812\n",
      "Loss at iteration 6500 : 0.040991609775012164\n",
      "Loss at iteration 7000 : 0.11906982985306896\n",
      "Loss at iteration 7500 : 0.06684687504012654\n",
      "Loss at iteration 8000 : 0.03639698208990056\n",
      "Loss at iteration 8500 : 0.17221752156042458\n",
      "Loss at iteration 9000 : 0.02940135581867655\n",
      "Loss at iteration 9500 : 0.1116900718059076\n",
      "\n",
      "Time taken: 0.31627440452575684\n",
      "\n",
      "Classification report: \n",
      "              precision    recall  f1-score   support\n",
      "\n",
      "           0       1.00      1.00      1.00        18\n",
      "           1       0.88      1.00      0.94        15\n",
      "           2       1.00      0.83      0.91        12\n",
      "\n",
      "    accuracy                           0.96        45\n",
      "   macro avg       0.96      0.94      0.95        45\n",
      "weighted avg       0.96      0.96      0.95        45\n",
      "\n"
     ]
    },
    {
     "data": {
      "image/png": "[encoded data removed]",
      "text/plain": [
       "<Figure size 432x288 with 1 Axes>"
      ]
     },
     "metadata": {
      "needs_background": "light"
     },
     "output_type": "display_data"
    }
   ],
   "source": [
    "model = LogisticRegression(k, X_train.shape[1], \"minibatch\")\n",
    "model.fit(X_train, Y_train_encoded)\n",
    "yhat = model.predict(X_test)\n",
    "model.plot()\n",
    "print()\n",
    "print(\"Classification report: \")\n",
    "print(classification_report(y_test, yhat))"
   ]
  },
  {
   "cell_type": "markdown",
   "id": "7a95d5b4",
   "metadata": {},
   "source": [
    "### Evaluating Stochastic method"
   ]
  },
  {
   "cell_type": "code",
   "execution_count": 27,
   "id": "d4e3b5ed",
   "metadata": {},
   "outputs": [
    {
     "name": "stdout",
     "output_type": "stream",
     "text": [
      "Loss at iteration: 0 : 0.5062047299388723\n",
      "Loss at iteration: 500 : 0.32793750292862245\n",
      "Loss at iteration: 1000 : 1.3246482351886637\n",
      "Loss at iteration: 1500 : 0.5367931414759096\n",
      "Loss at iteration: 2000 : 0.35104869600316596\n",
      "Loss at iteration: 2500 : 0.21868310007458333\n",
      "Loss at iteration: 3000 : 1.085038250734505\n",
      "Loss at iteration: 3500 : 0.15702789808684595\n",
      "Loss at iteration: 4000 : 1.014053142277819\n",
      "Loss at iteration: 4500 : 0.17712214849003213\n",
      "Loss at iteration: 5000 : 0.13170124695248028\n",
      "Loss at iteration: 5500 : 0.8669511696133777\n",
      "Loss at iteration: 6000 : 0.10379361917105107\n",
      "Loss at iteration: 6500 : 0.79142782351837\n",
      "Loss at iteration: 7000 : 0.7643049894837913\n",
      "Loss at iteration: 7500 : 0.7244021032491009\n",
      "Loss at iteration: 8000 : 0.39546077130657475\n",
      "Loss at iteration: 8500 : 0.1692477317400505\n",
      "Loss at iteration: 9000 : 0.6831962129528169\n",
      "Loss at iteration: 9500 : 0.1617982884338439\n",
      "\n",
      "Time taken: 0.31312012672424316\n",
      "\n",
      "Classification report: \n",
      "              precision    recall  f1-score   support\n",
      "\n",
      "           0       1.00      1.00      1.00        18\n",
      "           1       1.00      0.73      0.85        15\n",
      "           2       0.75      1.00      0.86        12\n",
      "\n",
      "    accuracy                           0.91        45\n",
      "   macro avg       0.92      0.91      0.90        45\n",
      "weighted avg       0.93      0.91      0.91        45\n",
      "\n"
     ]
    },
    {
     "data": {
      "image/png": "[encoded data removed]",
      "text/plain": [
       "<Figure size 432x288 with 1 Axes>"
      ]
     },
     "metadata": {
      "needs_background": "light"
     },
     "output_type": "display_data"
    }
   ],
   "source": [
    "model = LogisticRegression(k, X_train.shape[1], \"sto\")\n",
    "model.fit(X_train, Y_train_encoded)\n",
    "yhat = model.predict(X_test)\n",
    "model.plot()\n",
    "print()\n",
    "print(\"Classification report: \")\n",
    "print(classification_report(y_test, yhat))"
   ]
  },
  {
   "cell_type": "code",
   "execution_count": 25,
   "id": "a18fd347",
   "metadata": {},
   "outputs": [
    {
     "ename": "ValueError",
     "evalue": "Methos should be \"batch\", \"minibatch\" or \"sto\"",
     "output_type": "error",
     "traceback": [
      "\u001b[1;31m---------------------------------------------------------------------------\u001b[0m",
      "\u001b[1;31mValueError\u001b[0m                                Traceback (most recent call last)",
      "\u001b[1;32m<ipython-input-25-3e321814c641>\u001b[0m in \u001b[0;36m<module>\u001b[1;34m\u001b[0m\n\u001b[0;32m      1\u001b[0m \u001b[0mmodel\u001b[0m \u001b[1;33m=\u001b[0m \u001b[0mLogisticRegression\u001b[0m\u001b[1;33m(\u001b[0m\u001b[0mk\u001b[0m\u001b[1;33m,\u001b[0m \u001b[0mX_train\u001b[0m\u001b[1;33m.\u001b[0m\u001b[0mshape\u001b[0m\u001b[1;33m[\u001b[0m\u001b[1;36m1\u001b[0m\u001b[1;33m]\u001b[0m\u001b[1;33m,\u001b[0m \u001b[1;34m\"no-method\"\u001b[0m\u001b[1;33m)\u001b[0m\u001b[1;33m\u001b[0m\u001b[1;33m\u001b[0m\u001b[0m\n\u001b[1;32m----> 2\u001b[1;33m \u001b[0mmodel\u001b[0m\u001b[1;33m.\u001b[0m\u001b[0mfit\u001b[0m\u001b[1;33m(\u001b[0m\u001b[0mX_train\u001b[0m\u001b[1;33m,\u001b[0m \u001b[0mY_train_encoded\u001b[0m\u001b[1;33m)\u001b[0m\u001b[1;33m\u001b[0m\u001b[1;33m\u001b[0m\u001b[0m\n\u001b[0m\u001b[0;32m      3\u001b[0m \u001b[0myhat\u001b[0m \u001b[1;33m=\u001b[0m \u001b[0mmodel\u001b[0m\u001b[1;33m.\u001b[0m\u001b[0mpredict\u001b[0m\u001b[1;33m(\u001b[0m\u001b[0mX_test\u001b[0m\u001b[1;33m)\u001b[0m\u001b[1;33m\u001b[0m\u001b[1;33m\u001b[0m\u001b[0m\n\u001b[0;32m      4\u001b[0m \u001b[0mmodel\u001b[0m\u001b[1;33m.\u001b[0m\u001b[0mplot\u001b[0m\u001b[1;33m(\u001b[0m\u001b[1;33m)\u001b[0m\u001b[1;33m\u001b[0m\u001b[1;33m\u001b[0m\u001b[0m\n\u001b[0;32m      5\u001b[0m \u001b[0mprint\u001b[0m\u001b[1;33m(\u001b[0m\u001b[1;33m)\u001b[0m\u001b[1;33m\u001b[0m\u001b[1;33m\u001b[0m\u001b[0m\n",
      "\u001b[1;32m<ipython-input-22-475956f97b00>\u001b[0m in \u001b[0;36mfit\u001b[1;34m(self, X, Y)\u001b[0m\n\u001b[0;32m     63\u001b[0m \u001b[1;33m\u001b[0m\u001b[0m\n\u001b[0;32m     64\u001b[0m         \u001b[1;32melse\u001b[0m\u001b[1;33m:\u001b[0m\u001b[1;33m\u001b[0m\u001b[1;33m\u001b[0m\u001b[0m\n\u001b[1;32m---> 65\u001b[1;33m             \u001b[1;32mraise\u001b[0m \u001b[0mValueError\u001b[0m\u001b[1;33m(\u001b[0m\u001b[1;34m'Methos should be \"batch\", \"minibatch\" or \"sto\"'\u001b[0m\u001b[1;33m)\u001b[0m\u001b[1;33m\u001b[0m\u001b[1;33m\u001b[0m\u001b[0m\n\u001b[0m\u001b[0;32m     66\u001b[0m \u001b[1;33m\u001b[0m\u001b[0m\n\u001b[0;32m     67\u001b[0m \u001b[1;33m\u001b[0m\u001b[0m\n",
      "\u001b[1;31mValueError\u001b[0m: Methos should be \"batch\", \"minibatch\" or \"sto\""
     ]
    }
   ],
   "source": [
    "model = LogisticRegression(k, X_train.shape[1], \"no-method\")\n",
    "model.fit(X_train, Y_train_encoded)\n",
    "yhat = model.predict(X_test)\n",
    "model.plot()\n",
    "print()\n",
    "print(\"Classification report: \")\n",
    "print(classification_report(y_test, yhat))"
   ]
  },
  {
   "cell_type": "markdown",
   "id": "819d8151",
   "metadata": {},
   "source": [
    "### Discussion"
   ]
  },
  {
   "cell_type": "markdown",
   "id": "02d45af1",
   "metadata": {},
   "source": [
    "#### batch\n",
    "Loss at iteration 9500 : 0.07063868707824561\n",
    "Time taken: 0.3413655757904053\n",
    "\n",
    "#### minibatch\n",
    "Loss at iteration 9500 : 0.1116900718059076\n",
    "Time taken: 0.31627440452575684\n",
    "\n",
    "#### stochastic\n",
    "Loss at iteration: 9500 : 0.1617982884338439\n",
    "Time taken: 0.31312012672424316"
   ]
  },
  {
   "cell_type": "code",
   "execution_count": null,
   "id": "e965922d",
   "metadata": {},
   "outputs": [],
   "source": []
  }
 ],
 "metadata": {
  "kernelspec": {
   "display_name": "Python 3",
   "language": "python",
   "name": "python3"
  },
  "language_info": {
   "codemirror_mode": {
    "name": "ipython",
    "version": 3
   },
   "file_extension": ".py",
   "mimetype": "text/x-python",
   "name": "python",
   "nbconvert_exporter": "python",
   "pygments_lexer": "ipython3",
   "version": "3.8.8"
  }
 },
 "nbformat": 4,
 "nbformat_minor": 5
}
