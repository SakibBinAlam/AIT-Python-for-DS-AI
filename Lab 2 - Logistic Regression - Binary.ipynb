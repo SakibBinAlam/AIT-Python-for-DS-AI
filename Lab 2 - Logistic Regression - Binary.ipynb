{
 "cells": [
  {
   "cell_type": "markdown",
   "metadata": {},
   "source": [
    "# Programming for Data Science and Artificial Intelligence\n",
    "\n",
    "## Supervised Learning - Classification - Logistic Regression - Binary\n",
    "\n",
    "### Readings: \n",
    "- [GERON] Ch4\n",
    "- [VANDER] Ch5\n",
    "- [HASTIE] Ch4"
   ]
  },
  {
   "cell_type": "code",
   "execution_count": 1,
   "metadata": {},
   "outputs": [],
   "source": [
    "import numpy as np\n",
    "import matplotlib.pyplot as plt"
   ]
  },
  {
   "cell_type": "markdown",
   "metadata": {},
   "source": [
    "## Logistic Regression\n",
    "\n",
    "Logistic regression is an supervised algorithm for solving classification problem where outcome (target) is discrete.   The idea behind is that $\\theta^Tx$ will return a continous value and thus may not be suitable for classification task.  However, if we can find one function $g$ such that\n",
    "\n",
    "$$g(\\theta^Tx) = [0, 1]$$\n",
    "\n",
    "then we can define our hypothesis function as $g$ and optimize accordingly based on some cost function.\n",
    "\n",
    "It happens that $g$ (and also our hypothesis function $h$) can be defined as the sigmoid (logit) function as the following:\n",
    "\n",
    "$$ h = g(\\theta^Tx) = \\frac{1}{1+e^{-\\theta^Tx}} $$\n",
    "\n",
    "**Trivials**: \n",
    "$e$ is a really convenient number for math, for example whenever you take the derivative of $e^x$, you get $e^x$ back again.  It's the only function on Earth that will do that.  Also, $e^x$ always give you positive numbers, thus it is no surprise this $e$ was often used in probability/statistics.  Last, it is convenient to apply $log$ in any optimization problem including $e$ since it will cancel it nicely and will also not change the optimization answer since $log$ is monotically increasing.\n",
    "\n",
    "\n",
    "\n",
    "Let's see how does it look in code:"
   ]
  },
  {
   "cell_type": "code",
   "execution_count": 2,
   "metadata": {},
   "outputs": [
    {
     "data": {
      "text/plain": [
       "Text(0, 0.5, 'y')"
      ]
     },
     "execution_count": 2,
     "metadata": {},
     "output_type": "execute_result"
    },
    {
     "data": {
      "image/png": "[encoded data removed]",
      "text/plain": [
       "<Figure size 432x288 with 1 Axes>"
      ]
     },
     "metadata": {
      "needs_background": "light"
     },
     "output_type": "display_data"
    }
   ],
   "source": [
    "# lambda way \n",
    "sigmoid_gen = lambda x: (1+np.exp(-x))**-1\n",
    "\n",
    "# Function way\n",
    "def sigmoid(x):\n",
    "    sig = 1 / (1 + np.exp(-x))\n",
    "    return sig\n",
    "\n",
    "# Generate data points\n",
    "x = np.arange(-5,5,0.1)\n",
    "y = sigmoid(x)\n",
    "\n",
    "# Plot the sigmoid\n",
    "plt.scatter(x, y)\n",
    "plt.title('Sigmoid')\n",
    "plt.xlabel('x')\n",
    "plt.ylabel('y')"
   ]
  },
  {
   "cell_type": "markdown",
   "metadata": {},
   "source": [
    "Recall the derivative using quotient rule is        \n",
    "\n",
    "$$ (\\frac{f}{g})' = \\frac{f'g - fg'}{g^2}$$\n",
    "\n",
    "Given sigmoid function as\n",
    "\n",
    "$$ g(x) = \\frac{1}{1+e^{-x}} $$\n",
    "\n",
    "Thus the derivative of sigmoid function is\n",
    "\n",
    "$$\n",
    "\\begin{aligned}\n",
    "    \\frac{dg}{dx} &= \\frac{0(1 + e^{-x}) - (-1)(e^{-x}))}{(1 + e^{-x})^2} \\\\\n",
    "    &= \\frac{e^{-x}}{(1 + e^{-x})^2}  = \\frac{e^{-x} + 1 - 1}{(1 + e^{-x})^2} \\\\\n",
    "    &= \\frac{1}{(1 + e^{-x})} - \\frac{1}{(1 + e^{-x})^2} \\\\\n",
    "    &= \\frac{1}{(1 + e^{-x})} \\big(1 - \\frac{1}{(1 + e^{-x})}\\big)\\\\\n",
    "    &= g(1 - g)\n",
    "\\end{aligned}\n",
    "$$\n",
    "\n",
    "Let's look at the gradient by modifying our sigmoid function a little bit."
   ]
  },
  {
   "cell_type": "code",
   "execution_count": 3,
   "metadata": {},
   "outputs": [
    {
     "data": {
      "text/plain": [
       "Text(0, 0.5, 'y')"
      ]
     },
     "execution_count": 3,
     "metadata": {},
     "output_type": "execute_result"
    },
    {
     "data": {
      "image/png": "[encoded data removed]",
      "text/plain": [
       "<Figure size 720x144 with 2 Axes>"
      ]
     },
     "metadata": {
      "needs_background": "light"
     },
     "output_type": "display_data"
    }
   ],
   "source": [
    "# Formula:\n",
    "# g(x) = 1 / (1 + np.exp(-x))\n",
    "\n",
    "# lambda way \n",
    "sigmoid_gen = lambda x: (1+np.exp(-x))**-1\n",
    "\n",
    "# Function way\n",
    "def sigmoid(x, deriv = False):\n",
    "    sig = 1 / (1 + np.exp(-x))\n",
    "    if deriv:\n",
    "        sig_deriv = sig*(1-sig) \n",
    "        return sig_deriv\n",
    "    else:\n",
    "        return sig\n",
    "# Generate data points\n",
    "x = np.arange(-5,5,0.1)\n",
    "y = sigmoid(x)\n",
    "y_deriv = sigmoid(x, deriv = True)\n",
    "\n",
    "# Plot the sigmoid\n",
    "_, ax = plt.subplots(1, 2, figsize=(10, 2))\n",
    "ax1 = ax[0]\n",
    "ax1.scatter(x, y)\n",
    "ax1.set_title('Sigmoid')\n",
    "ax1.set_xlabel('x')\n",
    "ax1.set_ylabel('y')\n",
    "\n",
    "# Plot the derivative of the sigmoid\n",
    "ax2 = ax[1]\n",
    "ax2.scatter(x, y_deriv)\n",
    "ax2.set_title('Derivative of the sigmoid')\n",
    "ax2.set_xlabel('x')\n",
    "ax2.set_ylabel('y')"
   ]
  },
  {
   "cell_type": "markdown",
   "metadata": {},
   "source": [
    "**Trivials**: As you can see, the greatest gradient possible is 0.25.  Thus it means that in a gradient descent update, the update speed will be restricted by this value."
   ]
  },
  {
   "cell_type": "markdown",
   "metadata": {},
   "source": [
    "So if we had the following function\n",
    "\n",
    "$$ \\theta^Tx = \\theta_{0} + \\theta_{1}x_{1} + \\theta_{2}x_{2} $$\n",
    "\n",
    "Given some point ($x_{1}$,$x_{2}$), if we plugged it to our sigmoid function, the equation could output a positive result (for one class), negative result (for the other class), or 0 (the point lies right on the decision boundary).\n",
    "\n",
    "For example, given ($x_{1} = 3$, $x_{2} = 4$) and ($\\theta_{1}$ = 1, $\\theta_{2}$ = 2) (let's ignore $\\theta_{0}$ for simplicity), the following code performs a sigmoid of $\\theta^Tx$"
   ]
  },
  {
   "cell_type": "code",
   "execution_count": 4,
   "metadata": {},
   "outputs": [
    {
     "name": "stdout",
     "output_type": "stream",
     "text": [
      "theta^Tx: 11\n",
      "sigmoid of theta^Tx:  0.999983298578152\n"
     ]
    }
   ],
   "source": [
    "X = np.array([3, 4])\n",
    "w = np.array([1, 2])\n",
    "print(\"theta^Tx:\", X @ w)\n",
    "print(\"sigmoid of theta^Tx: \", sigmoid(X @ w))"
   ]
  },
  {
   "cell_type": "markdown",
   "metadata": {},
   "source": [
    "### Where are we so far?\n",
    "\n",
    "Well, we have so far motivated the followings:\n",
    "\n",
    "1. We need a squashing function $g$ to use in classification problem\n",
    "2. We will also go through together different possible squashing function including sigmoid, tanh, relu, and leaky relu\n",
    "\n",
    "For now, we shall use only sigmoid function, since we will be talking mainly about logistic regression.  But we shall go back to these other activation functions later on in the course.\n",
    "\n",
    "Here, we shall explore three different variants of logistic regression:\n",
    "1. Binary Logistic Regression\n",
    "2. Multinomial (multiclass) Logistic Regression\n",
    "3. Logistic Regression with Newton-Raphson method\n",
    "\n",
    "Last, we shall explore the sklearn way.\n",
    "\n",
    "**Be warned**: There will be a lot of equations but they are necessary to understand in order to do the implementation.  For some obvious derivations, I will leave them as your exercise, but if you feel inimidated, ask me in class or come to my office."
   ]
  },
  {
   "cell_type": "markdown",
   "metadata": {},
   "source": [
    "## 1. Binary Logistic Regression\n",
    "\n",
    "Logistic regression is a binary classification algorithm by simply finding a best fitted line that separates two dataset.  In order to squash the output to a value between 0 and 1, logistic regression used a function called logit function (or sigmoid function)\n",
    "\n",
    "### Scratch\n",
    "\n",
    "**Implementation steps:**\n",
    "    \n",
    "1. Prepare your data\n",
    "    - add intercept\n",
    "    - $X$ and $y$ and $w$ in the right shape\n",
    "        - $X$ -> $(m, n)$\n",
    "        - $y$ -> $(m, )$\n",
    "        - $w$ -> $(n, )$\n",
    "        - where $m$ is number of samples\n",
    "        - where $n$ is number of features\n",
    "    - train-test split\n",
    "    - feature scale\n",
    "    - clean out any missing data\n",
    "    - (optional) feature engineering\n",
    "2. Predict and calculate the loss\n",
    "    - The loss function is the *cross entropy* defined as\n",
    "    $$J = - \\Sigma_{i=1}^m y^{(i)}log(h) + (1-y^{(i)})log(1-h)$$\n",
    "    where h is defined as the sigmoid function as\n",
    "    $$h = \\frac{1}{1+e^{-\\theta^Tx}}$$\n",
    "3. Calculate the gradient based on the loss\n",
    "    - The gradient of $\\theta_j$ is defined as\n",
    "        $$\\frac{\\partial J}{\\partial \\theta_j} = \\Sigma_{i=1}^{m}(h^{(i)}-y^{(i)})x_j$$\n",
    "    - This can be derived by knowing that \n",
    "        $$J= y_1 log h + (1 - y_1) lg (1-h)$$\n",
    "        $$h = \\frac{1}{1+e^{-g}}$$\n",
    "        $$g = \\theta^Tx$$\n",
    "    - Thus, gradient of $J$ in respect to some $\\theta_j$ is\n",
    "        $$\\frac{\\partial J}{\\partial \\theta_j} = \\frac{\\partial J}{\\partial h} \\frac{\\partial h}{\\partial g} \\frac{\\partial g}{\\partial \\theta_j}$$\n",
    "      where\n",
    "        $$\\frac{\\partial J}{\\partial h} = \\frac{y_1 - h}{h(1-h)}$$\n",
    "        $$\\frac{\\partial h}{\\partial g} = h(1-h)$$\n",
    "        $$\\frac{\\partial g}{\\partial \\theta_j} = x_j$$\n",
    "    - Thus, \n",
    "    $$\n",
    "    \\begin{aligned}\n",
    "    \\frac{\\partial J}{\\partial \\theta_j} &= \\frac{\\partial J}{\\partial h} \\frac{\\partial h}{\\partial g} \\frac{\\partial g}{\\partial \\theta_j}\\\\\n",
    "   &= \\frac{y_1 - h}{h(1-h)} * h(1-h) * x_j\\\\\n",
    "   &= (y_1 - h)x_j\\\\\n",
    "   \\end{aligned}\n",
    "   $$\n",
    "    - We can then put negative sign in front to make it negative loglikelihood, thus\n",
    "       $$(h - y_i)x_j$$\n",
    "4. Update the theta with this update rule\n",
    "    $$\\theta_j := \\theta_j - \\alpha * \\frac{\\partial J}{\\partial \\theta_j}$$\n",
    "    where $\\alpha$ is a typical learning rate range between 0 and 1\n",
    "5. Loop 2-4 until max_iter is reached, or the difference between old loss and new loss are smaller than some predefined threshold tolerance"
   ]
  },
  {
   "cell_type": "markdown",
   "metadata": {},
   "source": [
    "#### Step 1: Prepare your data\n",
    "\n",
    "#### 1.1 Get your X and y in the right shape"
   ]
  },
  {
   "cell_type": "code",
   "execution_count": 5,
   "metadata": {},
   "outputs": [
    {
     "data": {
      "text/plain": [
       "<matplotlib.collections.PathCollection at 0x1fdb917beb0>"
      ]
     },
     "execution_count": 5,
     "metadata": {},
     "output_type": "execute_result"
    },
    {
     "data": {
      "image/png": "[encoded data removed]",
      "text/plain": [
       "<Figure size 432x288 with 1 Axes>"
      ]
     },
     "metadata": {
      "needs_background": "light"
     },
     "output_type": "display_data"
    }
   ],
   "source": [
    "from sklearn import linear_model\n",
    "from sklearn.datasets import make_classification\n",
    "from sklearn.model_selection import train_test_split\n",
    "from sklearn.preprocessing import StandardScaler\n",
    "\n",
    "# generate quite a lot of noise\n",
    "# with only 4 informative features out of 10\n",
    "# with 2 redundant features, overlapping with that 4 informative features\n",
    "# and 4 noisy features\n",
    "# Also, make std wider using n_clusters=2\n",
    "X, y = make_classification(n_samples=500, n_features=10, n_redundant=2, n_informative=4,\n",
    "                             n_clusters_per_class=2, random_state=14)\n",
    "plt.scatter(X[:, 0], X[:, 1], marker='o', c=y,\n",
    "            s=25, edgecolor='k')"
   ]
  },
  {
   "cell_type": "markdown",
   "metadata": {},
   "source": [
    "#### 1.2 Feature scale your data to reach faster convergence"
   ]
  },
  {
   "cell_type": "code",
   "execution_count": 6,
   "metadata": {},
   "outputs": [],
   "source": [
    "# feature scaling helps reaching convergence faster\n",
    "scaler = StandardScaler()\n",
    "X = scaler.fit_transform(X)"
   ]
  },
  {
   "cell_type": "markdown",
   "metadata": {},
   "source": [
    "#### 1.3 Train test split your data"
   ]
  },
  {
   "cell_type": "code",
   "execution_count": 7,
   "metadata": {},
   "outputs": [],
   "source": [
    "X_train, X_test, y_train, y_test = train_test_split(X, y, test_size=0.3)"
   ]
  },
  {
   "cell_type": "markdown",
   "metadata": {},
   "source": [
    "#### 1.4 Add intercepts"
   ]
  },
  {
   "cell_type": "code",
   "execution_count": 8,
   "metadata": {},
   "outputs": [],
   "source": [
    "intercept = np.ones((X_train.shape[0], 1))\n",
    "X_train   = np.concatenate((intercept, X_train), axis=1)  # add intercept\n",
    "intercept = np.ones((X_test.shape[0], 1))\n",
    "X_test    = np.concatenate((intercept, X_test), axis=1)  # add intercept"
   ]
  },
  {
   "cell_type": "markdown",
   "metadata": {},
   "source": [
    "#### Step 2: Fit your algorithm \n",
    "\n",
    "#### 1. Define your algorithm"
   ]
  },
  {
   "cell_type": "code",
   "execution_count": 9,
   "metadata": {},
   "outputs": [
    {
     "name": "stdout",
     "output_type": "stream",
     "text": [
      "Cost at iteration 0 24.26015131959808\n",
      "Cost at iteration 500 15.96656824726763\n",
      "Cost at iteration 1000 17.65802486045353\n",
      "Cost at iteration 1500 6.544221238916025\n",
      "Cost at iteration 2000 2.7526979168624486\n",
      "Cost at iteration 2500 17.175528948794206\n",
      "Cost at iteration 3000 3.619992135366412\n",
      "Cost at iteration 3500 12.260659954699905\n",
      "Cost at iteration 4000 16.235563203909322\n",
      "Cost at iteration 4500 18.61426928428603\n"
     ]
    }
   ],
   "source": [
    "# here I use mini-batch as a demonstration\n",
    "# you are free to use any variants of gradient descent\n",
    "def mini_batch_GD(X, y, max_iter=1000):\n",
    "    w = np.zeros(X.shape[1])\n",
    "    l_rate = 0.01\n",
    "    #10% of data\n",
    "    batch_size = int(0.1 * X.shape[0])\n",
    "    for i in range(max_iter):\n",
    "        ix = np.random.randint(0, X.shape[0]) #<----with replacement\n",
    "        batch_X = X[ix:ix+batch_size]\n",
    "        batch_y = y[ix:ix+batch_size]\n",
    "        cost, grad = gradient(batch_X, batch_y, w)\n",
    "        if i % 500 == 0:\n",
    "            print(f\"Cost at iteration {i}\", cost)\n",
    "        w = w - l_rate * grad\n",
    "    return w, i\n",
    "\n",
    "def gradient(X, y, w):\n",
    "    m = X.shape[0]\n",
    "    h = h_theta(X, w)\n",
    "    error = h - y\n",
    "    # putting negative sign for negative log likelihood\n",
    "    cost = - np.sum(y * np.log(h) + (1 - y) * np.log(1 - h))\n",
    "    grad = np.dot(X.T, error)\n",
    "    return cost, grad\n",
    "\n",
    "def sigmoid(x):\n",
    "    return 1 / (1 + np.exp(-x))\n",
    "        \n",
    "def h_theta(X, w):\n",
    "    return sigmoid(X @ w)\n",
    "\n",
    "def output(pred):\n",
    "    return np.round(pred)\n",
    "\n",
    "w, i = mini_batch_GD(X_train, y_train, max_iter=5000)"
   ]
  },
  {
   "cell_type": "markdown",
   "metadata": {},
   "source": [
    "#### 2. Compute accuracy"
   ]
  },
  {
   "cell_type": "code",
   "execution_count": 10,
   "metadata": {},
   "outputs": [],
   "source": [
    "yhat = output(h_theta(X_test, w))"
   ]
  },
  {
   "cell_type": "markdown",
   "metadata": {},
   "source": [
    "### Classification metrics\n",
    "\n",
    "Let us study some classification metrics that are quite different from the $r^2$ or $mse$ that we see from the regression.  Let me define a confusion matrix that looks like this:\n",
    "\n",
    "<code>\n",
    "\t\t \t    Actual\n",
    "\t\t\t    +\t   -\n",
    "Predicted +     TP     FP\n",
    "          -     FN     TN\n",
    "</code>\n",
    "\n",
    "TP is defined as true positives, FP as false positives, FN as false negatives, and TN as true negatives.\n",
    "\n",
    "#### Accuracy, Recall, Precision, F1\n",
    "\n",
    "Accuracy is straightforward\n",
    "\n",
    "$$ Accuracy = \\frac{TP + TN}{TP + TN + FP + FN} $$\n",
    "\n",
    "Accuracy is mostly avoided, unless your model is really balanced of both positives and negatives.  Instead, more useful classification metrics would be precision, recall, and f1-score\n",
    "\n",
    "$$ Precision = TP / (TP + FP) $$\n",
    "\n",
    "Precision is useful as metric when you want to prioritize removing false positive.  Example is search engine in which you do not want to return any search results that are \"false positive\"\n",
    "\n",
    "$$ Recall = TP / (TP + FN) $$\n",
    "\n",
    "Recall is useful as metric when you want to prioritize removing false negative.  Example is cancer detection in which you do not want to miss detecting any real positive (i.e., false negative).\n",
    "\n",
    "$$ F1 = 2 x \\frac{Precision * Recall}{Precision+Recall} $$\n",
    "\n",
    "F1 is simply seeking a balance between Precision and Recall.  Also F1 is good metric when there is an uneven class distribution (large number of actual negatives)\n",
    "\n",
    "To get accuracy, recall, precision and f1 score, we can use **sklearn.metrics.classification_report**."
   ]
  },
  {
   "cell_type": "code",
   "execution_count": 11,
   "metadata": {},
   "outputs": [
    {
     "name": "stdout",
     "output_type": "stream",
     "text": [
      "=========Classification report=======\n",
      "              precision    recall  f1-score   support\n",
      "\n",
      "           0       0.87      0.79      0.83        82\n",
      "           1       0.77      0.85      0.81        68\n",
      "\n",
      "    accuracy                           0.82       150\n",
      "   macro avg       0.82      0.82      0.82       150\n",
      "weighted avg       0.82      0.82      0.82       150\n",
      "\n"
     ]
    }
   ],
   "source": [
    "from sklearn.metrics import classification_report\n",
    "print(\"=========Classification report=======\")\n",
    "print(classification_report(y_test, yhat))"
   ]
  },
  {
   "cell_type": "markdown",
   "metadata": {},
   "source": [
    "#### ROC\n",
    "\n",
    "An ROC curve shows the performance of one classification model at **all classification thresholds**. For example, if we set threshold to 0.4, then anything less than 0.4 will be negative class, and otherwise positive class.  To build the ROC curve, you iterate all possible threshold, and collect the TP, FP, TN, TP of all possible threshold.\n",
    "\n",
    "ROC curves typically feature true positive rate on the Y axis, and false positive rate on the X axis, where\n",
    "\n",
    "$$ TPR = TP / (TP + FN) $$\n",
    "\n",
    "$$ FPR = FP / (FP + TN) $$\n",
    "\n",
    "This means that the top left corner of the plot is the “ideal” point - a false positive rate of zero, and a true positive rate of one. This is not very realistic, but it does mean that a larger area under the curve (AUC) is usually better.\n",
    "\n",
    "To get area score under the curve, we can use **sklearn.metrics.roc_auc_score**"
   ]
  },
  {
   "cell_type": "code",
   "execution_count": 12,
   "metadata": {},
   "outputs": [
    {
     "name": "stdout",
     "output_type": "stream",
     "text": [
      "=========ROC AUC score=======\n",
      "0.8228120516499283\n"
     ]
    }
   ],
   "source": [
    "from sklearn.metrics import roc_auc_score\n",
    "print(\"=========ROC AUC score=======\")\n",
    "print(roc_auc_score(y_test, yhat))"
   ]
  },
  {
   "cell_type": "markdown",
   "metadata": {},
   "source": [
    "#### Precision-Recall\n",
    "\n",
    "Davis and Goadrich in this paper (https://ftp.cs.wisc.edu/machine-learning/shavlik-group/davis.icml06.pdf) propose that Precision-Recall (PR) metric will be more informative than ROC when dealing with highly skewed datasets. Because Precision is directly influenced by class imbalance so the Precision-recall are better to highlight differences between models for highly imbalanced data sets. When you compare different models with imbalanced settings, the area under the Precision-Recall curve will be more sensitive than the area under the ROC curve.\n",
    "\n",
    "Example of drawback of ROC curve\n",
    "\n",
    "- $TPR = TP / (TP + FN) $\n",
    "- $FPR = FP / (FP + TN) $\n",
    "\n",
    "======balanced data=====\n",
    "- n_sample = 500\n",
    "- pos = 250\n",
    "- neg = 250\n",
    "- Given the following confusion matrix\n",
    "\n",
    "<code>\n",
    "\t\t\tActual\n",
    "\t\t\t  +\t     -\n",
    "Predict.+     125     125\n",
    "        -     0       250\n",
    "</code>\n",
    "\n",
    "- $TPR = 125 / (125 + 0) = 1$\n",
    "- $FPR = 125 / 125 + 250 = 0.3$\n",
    "\n",
    "Looks ok!\n",
    "\n",
    "=====imbalanced data=======\n",
    "- n_sample = 500\n",
    "- pos = 30\n",
    "- neg = 470\n",
    "- Given the following confusion matrix\n",
    "\n",
    "<code>\n",
    "\t\t\tActual\n",
    "\t\t\t  +\t     -\n",
    "Predict.+     15     15\n",
    "        -     0      470\n",
    "</code>\n",
    "\n",
    "- $TPR = 15 / (15 + 0)$ = 1\n",
    "- $FPR = 15/ (15 + 470) {\\approx} 0$\n",
    "\n",
    "Perfect model??  How?  Because the amount of wrong positives is undermined by the great amount of negatives\n",
    "\n",
    "====Precision-Recall curve works much better for imbalanced=====\n",
    "\n",
    "- Precision =  TP / (TP + FP)\n",
    "- Recall = TP / (TP + FN)\n",
    "\n",
    "- Precision = 15 / (15 + 15) = 0.5. #minimize false positive\n",
    "- Recall = 15 / (15 + 0) = 1.   #minimize false negative\n",
    "\n",
    "Reflect much better!\n",
    "\n",
    "For precision-recall metric, we can use **sklearn.metrics.average_precision_score** which compute the ratio between recall and precision (read more here -->https://scikit-learn.org/stable/auto_examples/model_selection/plot_precision_recall.html#sphx-glr-auto-examples-model-selection-plot-precision-recall-py). \n",
    "\n",
    "**Note**: sklearn version of average_precision_score are typically used in binary classification to study the output of a classifier. In order to extend the precision-recall curve and average precision to multi-class or multi-label classification, it is necessary to **binarize** the output. I have demonstrated this at the multinomial logistic regression part"
   ]
  },
  {
   "cell_type": "code",
   "execution_count": 13,
   "metadata": {},
   "outputs": [
    {
     "name": "stdout",
     "output_type": "stream",
     "text": [
      "=========Average precision score=======\n",
      "0.7262745098039215\n"
     ]
    }
   ],
   "source": [
    "from sklearn.metrics import average_precision_score\n",
    "print(\"=========Average precision score=======\")\n",
    "print(average_precision_score(y_test, yhat))"
   ]
  },
  {
   "cell_type": "markdown",
   "metadata": {},
   "source": [
    "### Sklearn"
   ]
  },
  {
   "cell_type": "code",
   "execution_count": 14,
   "metadata": {},
   "outputs": [
    {
     "name": "stdout",
     "output_type": "stream",
     "text": [
      "=========Average precision score=======\n",
      "0.7091418385536032\n",
      "=========Classification report=======\n",
      "Report:                precision    recall  f1-score   support\n",
      "\n",
      "           0       0.86      0.77      0.81        82\n",
      "           1       0.75      0.85      0.80        68\n",
      "\n",
      "    accuracy                           0.81       150\n",
      "   macro avg       0.81      0.81      0.81       150\n",
      "weighted avg       0.81      0.81      0.81       150\n",
      "\n"
     ]
    }
   ],
   "source": [
    "from sklearn.linear_model import LogisticRegression\n",
    "from sklearn.preprocessing import label_binarize\n",
    "\n",
    "model = LogisticRegression()\n",
    "\n",
    "model.fit(X_train, y_train)\n",
    "yhat = model.predict(X_test)\n",
    "\n",
    "print(\"=========Average precision score=======\")\n",
    "print(average_precision_score(y_test, yhat))\n",
    "\n",
    "print(\"=========Classification report=======\")\n",
    "print(\"Report: \", classification_report(y_test, yhat))"
   ]
  },
  {
   "cell_type": "markdown",
   "metadata": {},
   "source": [
    "### === Task ==="
   ]
  },
  {
   "cell_type": "code",
   "execution_count": 15,
   "metadata": {},
   "outputs": [
    {
     "data": {
      "text/plain": [
       "<matplotlib.collections.PathCollection at 0x1fdba1ef2b0>"
      ]
     },
     "execution_count": 15,
     "metadata": {},
     "output_type": "execute_result"
    },
    {
     "data": {
      "image/png": "[encoded data removed]",
      "text/plain": [
       "<Figure size 432x288 with 1 Axes>"
      ]
     },
     "metadata": {
      "needs_background": "light"
     },
     "output_type": "display_data"
    }
   ],
   "source": [
    "from sklearn import linear_model\n",
    "from sklearn.datasets import make_classification, make_blobs\n",
    "from sklearn.model_selection import train_test_split\n",
    "from sklearn.preprocessing import StandardScaler\n",
    "import matplotlib.pyplot as plt\n",
    "import numpy as np\n",
    "\n",
    "X, y = make_blobs(n_samples=500, centers=2, n_features=2,\n",
    "                  random_state=0)\n",
    "\n",
    "plt.scatter(X[:, 0], X[:, 1], marker='o', c=y,\n",
    "            s=25, edgecolor='k')"
   ]
  },
  {
   "cell_type": "markdown",
   "metadata": {},
   "source": [
    "1. Put everything into a class called LogisticRegression. The training method should be \"minibatch\".\n",
    "\n",
    "2. Perform a classification on the data given above.\n",
    "\n",
    "3. Plot training losses as number of iters increases.\n",
    "\n",
    "4. Write a class called classification_report containing 4 functions (Accuracy, Recall, Precision, F1) and use it to evaluate your model."
   ]
  },
  {
   "cell_type": "code",
   "execution_count": 67,
   "metadata": {},
   "outputs": [],
   "source": [
    "# scaling\n",
    "scaler = StandardScaler()\n",
    "X = scaler.fit_transform(X)\n",
    "\n",
    "# train test split\n",
    "\n",
    "X_train, X_test, y_train, y_test = train_test_split(X, y, test_size=0.3)"
   ]
  },
  {
   "cell_type": "code",
   "execution_count": 68,
   "metadata": {},
   "outputs": [],
   "source": [
    "# add intercept\n",
    "\n",
    "intercept = np.ones((X_train.shape[0], 1))\n",
    "X_train   = np.concatenate((intercept, X_train), axis=1)\n",
    "intercept = np.ones((X_test.shape[0], 1))\n",
    "X_test    = np.concatenate((intercept, X_test), axis=1)"
   ]
  },
  {
   "cell_type": "code",
   "execution_count": 69,
   "metadata": {},
   "outputs": [
    {
     "name": "stdout",
     "output_type": "stream",
     "text": [
      "[[ 1.          1.40135118 -0.85939891]\n",
      " [ 1.         -0.3828934  -1.06129161]\n",
      " [ 1.         -0.01041968  0.38547819]\n",
      " [ 1.          0.81479231 -0.63422687]\n",
      " [ 1.         -1.07694929  0.46169015]]\n",
      "[[ 1.          0.30232914 -0.97223566]\n",
      " [ 1.          0.3689621  -0.89699123]\n",
      " [ 1.          0.77040924  0.42679295]\n",
      " [ 1.          0.20375027  0.7901343 ]\n",
      " [ 1.          1.53527021  1.54215612]]\n"
     ]
    }
   ],
   "source": [
    "print(X_train[:5])\n",
    "print(X_test[:5])"
   ]
  },
  {
   "cell_type": "code",
   "execution_count": 70,
   "metadata": {},
   "outputs": [],
   "source": [
    "class LogisticRegression:\n",
    "    \n",
    "    def __init__(self, alpha=0.0001, max_iter=27000, loss_old=10000):\n",
    "        self.alpha = alpha\n",
    "        self.max_iter = max_iter\n",
    "        self.loss_old = loss_old\n",
    "        \n",
    "    def fit(self, X, y):\n",
    "        self.w = np.zeros(X.shape[1])\n",
    "        self.loss_list = []\n",
    "        \n",
    "        #10% of data\n",
    "        # minibatch\n",
    "        batch_size = int(0.1 * X.shape[0])\n",
    "        for i in range(self.max_iter):\n",
    "            ix = np.random.randint(0, X.shape[0])\n",
    "            batch_X = X[ix:ix+batch_size]\n",
    "            batch_y = y[ix:ix+batch_size]\n",
    "            loss, grad = self.gradient(batch_X, batch_y)\n",
    "            if i % 500 == 0:\n",
    "                print(\"Loss at iteration \",i, \": \", loss)\n",
    "                self.loss_list.append(loss)\n",
    "            self.w = self.w - self.alpha * grad            \n",
    "\n",
    "    def gradient(self, X, y):\n",
    "        m = X.shape[0]\n",
    "        h = self.h_theta(X)\n",
    "        error = h - y\n",
    "        loss = - np.sum(y * np.log(h) + (1 - y) * np.log(1 - h))\n",
    "        grad = np.dot(X.T, error)\n",
    "        return loss, grad\n",
    "\n",
    "    def sigmoid(self, x):\n",
    "        return 1 / (1 + np.exp(-x))\n",
    "\n",
    "    def h_theta(self, X):\n",
    "        return self.sigmoid(X @ self.w)\n",
    "\n",
    "    def predict(self, X_test):\n",
    "        yhat = np.round(self.sigmoid(X_test @ self.w))\n",
    "        return yhat\n",
    "    \n",
    "    def plot(self):\n",
    "        '''plt.scatter(np.arange(len(self.loss_list)) , self.loss_list)\n",
    "        plt.title('Loss')\n",
    "        plt.xlabel('epoch')\n",
    "        plt.ylabel('loss')\n",
    "        '''\n",
    "        plt.plot(np.arange(len(self.loss_list)) , self.loss_list, label = \"Losses\")\n",
    "        plt.title(\"Losses\")\n",
    "        plt.xlabel(\"epoch\")\n",
    "        plt.ylabel(\"losses\")\n",
    "        plt.legend()\n",
    "        \n"
   ]
  },
  {
   "cell_type": "code",
   "execution_count": 71,
   "metadata": {},
   "outputs": [
    {
     "name": "stdout",
     "output_type": "stream",
     "text": [
      "Loss at iteration  0 :  24.26015131959808\n",
      "Loss at iteration  500 :  15.017639950170345\n",
      "Loss at iteration  1000 :  10.7058013443134\n",
      "Loss at iteration  1500 :  10.154236116879936\n",
      "Loss at iteration  2000 :  7.191574621818015\n",
      "Loss at iteration  2500 :  7.031014292987717\n",
      "Loss at iteration  3000 :  5.536578758662561\n",
      "Loss at iteration  3500 :  6.764969314314341\n",
      "Loss at iteration  4000 :  4.93757803208343\n",
      "Loss at iteration  4500 :  8.427926857763628\n",
      "Loss at iteration  5000 :  4.79223121907544\n",
      "Loss at iteration  5500 :  4.229826879194376\n",
      "Loss at iteration  6000 :  5.387549636106244\n",
      "Loss at iteration  6500 :  4.480497056089015\n",
      "Loss at iteration  7000 :  7.293416311975934\n",
      "Loss at iteration  7500 :  4.395271297754567\n",
      "Loss at iteration  8000 :  3.025262617586829\n",
      "Loss at iteration  8500 :  2.9755478110354914\n",
      "Loss at iteration  9000 :  1.7567920181258307\n",
      "Loss at iteration  9500 :  5.052327135672052\n",
      "Loss at iteration  10000 :  3.889910583508305\n",
      "Loss at iteration  10500 :  3.407498185516251\n",
      "Loss at iteration  11000 :  4.953051512565632\n",
      "Loss at iteration  11500 :  2.8965597489647337\n",
      "Loss at iteration  12000 :  4.092697501601231\n",
      "Loss at iteration  12500 :  5.768228737215287\n",
      "Loss at iteration  13000 :  5.041618413873424\n",
      "Loss at iteration  13500 :  7.438100957035608\n",
      "Loss at iteration  14000 :  4.684756869656123\n",
      "Loss at iteration  14500 :  2.697692048479655\n",
      "Loss at iteration  15000 :  3.3290263746972277\n",
      "Loss at iteration  15500 :  3.91978243067886\n",
      "Loss at iteration  16000 :  3.323023635138757\n",
      "Loss at iteration  16500 :  2.235073104232664\n",
      "Loss at iteration  17000 :  4.341747688806309\n",
      "Loss at iteration  17500 :  3.450322058586563\n",
      "Loss at iteration  18000 :  3.189987606398941\n",
      "Loss at iteration  18500 :  2.217861220599677\n",
      "Loss at iteration  19000 :  7.38573312990485\n",
      "Loss at iteration  19500 :  3.5897175598022018\n",
      "Loss at iteration  20000 :  2.2139891107565677\n",
      "Loss at iteration  20500 :  0.10473211377566077\n",
      "Loss at iteration  21000 :  4.700901859188134\n",
      "Loss at iteration  21500 :  0.058105521795554574\n",
      "Loss at iteration  22000 :  3.1613775560716375\n",
      "Loss at iteration  22500 :  2.429287755309686\n",
      "Loss at iteration  23000 :  1.7511995035172043\n",
      "Loss at iteration  23500 :  3.728497693383713\n",
      "Loss at iteration  24000 :  2.7686982568153953\n",
      "Loss at iteration  24500 :  3.4544944818755674\n",
      "Loss at iteration  25000 :  3.3663075085037493\n",
      "Loss at iteration  25500 :  1.6292650278963952\n",
      "Loss at iteration  26000 :  3.6496500480777474\n",
      "Loss at iteration  26500 :  1.9520028232420101\n"
     ]
    },
    {
     "data": {
      "image/png": "[encoded data removed]",
      "text/plain": [
       "<Figure size 432x288 with 1 Axes>"
      ]
     },
     "metadata": {
      "needs_background": "light"
     },
     "output_type": "display_data"
    }
   ],
   "source": [
    "model = LogisticRegression()\n",
    "model.fit(X_train, y_train)\n",
    "yhat = model.predict(X_test)\n",
    "model.plot()"
   ]
  },
  {
   "cell_type": "code",
   "execution_count": 89,
   "metadata": {},
   "outputs": [],
   "source": [
    "# classification report\n",
    "\n",
    "class classification_reports():\n",
    "    \n",
    "    def __init__(self, actual, predicted):\n",
    "        #self.acc, self.predicted, self.acc, self.precision, self.recall, self.f1\n",
    "        #global acc\n",
    "        #global precision\n",
    "        #global recall\n",
    "        #global f1\n",
    "        \n",
    "        self.actual = actual\n",
    "        self.predicted = predicted\n",
    "        \n",
    "        self.TP = sum((self.actual == 1) & (self.predicted == 1))\n",
    "        self.TN = sum((self.actual == 0) & (self.predicted == 0))\n",
    "        self.FN = sum((self.actual == 1) & (self.predicted == 0))\n",
    "        self.FP = sum((self.actual == 0) & (self.predicted == 1))\n",
    "        \n",
    "    def accuracy(self):\n",
    "        self.acc = 100 * (self.TP + self.TN)/ float( self.TP + self.TN + self.FN + self.FP)\n",
    "        return self.acc\n",
    "    \n",
    "    def recall(self):\n",
    "        self.recall = (100* self.TP)/ float(self.TP + self.FN)\n",
    "        return self.recall\n",
    "        \n",
    "    def precision(self):\n",
    "        self.precision = 100* (self.TP)/ float(self.TP + self.FP)\n",
    "        return self.precision\n",
    "        \n",
    "    def f1(self):\n",
    "        self.f1 = 2 * self.precision * self.recall / (self.precision + self.recall)\n",
    "        return self.f1"
   ]
  },
  {
   "cell_type": "code",
   "execution_count": 90,
   "metadata": {},
   "outputs": [
    {
     "name": "stdout",
     "output_type": "stream",
     "text": [
      "Accuracy: 93.33333333333333\n",
      "Recall: 95.65217391304348\n",
      "Precision: 90.41095890410959\n",
      "F1: 92.95774647887323\n"
     ]
    }
   ],
   "source": [
    "# Model Evaluation\n",
    "report = classification_reports(y_test, yhat)\n",
    "print(\"Accuracy:\", report.accuracy())\n",
    "print(\"Recall:\", report.recall())\n",
    "print(\"Precision:\", report.precision())\n",
    "print(\"F1:\", report.f1())"
   ]
  },
  {
   "cell_type": "code",
   "execution_count": null,
   "metadata": {},
   "outputs": [],
   "source": []
  }
 ],
 "metadata": {
  "kernelspec": {
   "display_name": "Python 3",
   "language": "python",
   "name": "python3"
  },
  "language_info": {
   "codemirror_mode": {
    "name": "ipython",
    "version": 3
   },
   "file_extension": ".py",
   "mimetype": "text/x-python",
   "name": "python",
   "nbconvert_exporter": "python",
   "pygments_lexer": "ipython3",
   "version": "3.8.8"
  }
 },
 "nbformat": 4,
 "nbformat_minor": 4
}
